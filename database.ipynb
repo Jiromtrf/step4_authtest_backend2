{
 "cells": [
  {
   "cell_type": "code",
   "execution_count": 1,
   "metadata": {},
   "outputs": [],
   "source": [
    "import mysql.connector"
   ]
  },
  {
   "cell_type": "code",
   "execution_count": 13,
   "metadata": {},
   "outputs": [],
   "source": [
    "# MySQLへの接続設定\n",
    "connection = mysql.connector.connect(\n",
    "    host='localhost',     # サーバーホスト名\n",
    "    user='root',          # MySQLユーザ名\n",
    "    password='Spitz8823',   # MySQLパスワード\n",
    "    database='app_db'  # データベースを明示的に指定\n",
    ")"
   ]
  },
  {
   "cell_type": "code",
   "execution_count": 14,
   "metadata": {},
   "outputs": [],
   "source": [
    "# カーソルを作成\n",
    "cursor = connection.cursor()"
   ]
  },
  {
   "cell_type": "code",
   "execution_count": 4,
   "metadata": {},
   "outputs": [
    {
     "name": "stdout",
     "output_type": "stream",
     "text": [
      "Database created or already exists.\n"
     ]
    }
   ],
   "source": [
    "# データベース作成\n",
    "cursor.execute(\"CREATE DATABASE IF NOT EXISTS app_db\")\n",
    "print(\"Database created or already exists.\")"
   ]
  },
  {
   "cell_type": "code",
   "execution_count": 5,
   "metadata": {},
   "outputs": [],
   "source": [
    "# データベースを使用\n",
    "cursor.execute(\"USE app_db\")"
   ]
  },
  {
   "cell_type": "code",
   "execution_count": 6,
   "metadata": {},
   "outputs": [
    {
     "name": "stdout",
     "output_type": "stream",
     "text": [
      "Table 'user_master' created or already exists.\n"
     ]
    }
   ],
   "source": [
    "# ユーザマスタテーブル作成\n",
    "cursor.execute(\"\"\"\n",
    "CREATE TABLE IF NOT EXISTS user_master (\n",
    "    user_id VARCHAR(50) PRIMARY KEY,\n",
    "    name VARCHAR(100),\n",
    "    password VARCHAR(255)\n",
    ")\n",
    "\"\"\")\n",
    "print(\"Table 'user_master' created or already exists.\")"
   ]
  },
  {
   "cell_type": "code",
   "execution_count": 7,
   "metadata": {},
   "outputs": [
    {
     "name": "stdout",
     "output_type": "stream",
     "text": [
      "Table 'status_table' created or already exists.\n"
     ]
    }
   ],
   "source": [
    "# ステータステーブル作成\n",
    "cursor.execute(\"\"\"\n",
    "CREATE TABLE IF NOT EXISTS status_table (\n",
    "    id INT AUTO_INCREMENT PRIMARY KEY,\n",
    "    user_id VARCHAR(50),\n",
    "    biz INT,\n",
    "    design INT,\n",
    "    tech INT,\n",
    "    FOREIGN KEY (user_id) REFERENCES user_master(user_id)\n",
    ")\n",
    "\"\"\")\n",
    "print(\"Table 'status_table' created or already exists.\")"
   ]
  },
  {
   "cell_type": "code",
   "execution_count": 18,
   "metadata": {},
   "outputs": [],
   "source": [
    "# コネクションとカーソルを閉じる\n",
    "cursor.close()\n",
    "connection.close()"
   ]
  },
  {
   "cell_type": "code",
   "execution_count": 15,
   "metadata": {},
   "outputs": [
    {
     "name": "stdout",
     "output_type": "stream",
     "text": [
      "Dummy data inserted into 'user_master'.\n"
     ]
    }
   ],
   "source": [
    "# ユーザマスタテーブルへのダミーデータ挿入\n",
    "user_master_data = [\n",
    "    ('1', 'マサル', 'password1'),\n",
    "    ('2', 'じろー', 'password2'),\n",
    "    ('3', 'くが', 'password3'),\n",
    "    ('4', 'ふるさん', 'password4')\n",
    "]\n",
    "\n",
    "cursor.executemany(\"\"\"\n",
    "INSERT INTO user_master (user_id, name, password)\n",
    "VALUES (%s, %s, %s)\n",
    "\"\"\", user_master_data)\n",
    "print(\"Dummy data inserted into 'user_master'.\")"
   ]
  },
  {
   "cell_type": "code",
   "execution_count": 16,
   "metadata": {},
   "outputs": [
    {
     "name": "stdout",
     "output_type": "stream",
     "text": [
      "Dummy data inserted into 'status_table'.\n"
     ]
    }
   ],
   "source": [
    "# ステータステーブルへのダミーデータ挿入\n",
    "status_table_data = [\n",
    "    ('1', 80, 70, 60),\n",
    "    ('2', 50, 60, 90),\n",
    "    ('3', 70, 80, 40),\n",
    "    ('4', 90, 85, 75)\n",
    "]\n",
    "\n",
    "cursor.executemany(\"\"\"\n",
    "INSERT INTO status_table (user_id, biz, design, tech)\n",
    "VALUES (%s, %s, %s, %s)\n",
    "\"\"\", status_table_data)\n",
    "print(\"Dummy data inserted into 'status_table'.\")"
   ]
  },
  {
   "cell_type": "code",
   "execution_count": 17,
   "metadata": {},
   "outputs": [],
   "source": [
    "# コミットして変更を保存\n",
    "connection.commit()"
   ]
  },
  {
   "cell_type": "code",
   "execution_count": 23,
   "metadata": {},
   "outputs": [
    {
     "name": "stderr",
     "output_type": "stream",
     "text": [
      "(trapped) error reading bcrypt version\n",
      "Traceback (most recent call last):\n",
      "  File \"c:\\Users\\kouji\\AppData\\Local\\Programs\\Python\\Python312\\Lib\\site-packages\\passlib\\handlers\\bcrypt.py\", line 620, in _load_backend_mixin\n",
      "    version = _bcrypt.__about__.__version__\n",
      "              ^^^^^^^^^^^^^^^^^\n",
      "AttributeError: module 'bcrypt' has no attribute '__about__'\n"
     ]
    },
    {
     "name": "stdout",
     "output_type": "stream",
     "text": [
      "Plain: password1 -> Hashed: $2b$12$/4QDDK2.fA7EBID5M.MqWuTRQT1w3vnGkYuhgBu8zGSB6kYLvhmGe\n",
      "Plain: password2 -> Hashed: $2b$12$yL2BD0bvjjNccR2KrS/EoO9hyzNQTF.jyXptp0OvphsZYcLMe1oma\n",
      "Plain: password3 -> Hashed: $2b$12$dG1s6/mbI8N23w82X8yJvOX8Z5HMOS3GysK.RDBE/T9TfJ/ns4ULu\n",
      "Plain: password4 -> Hashed: $2b$12$ruWOWoQLYrtO9YOEA91A5elCtiXYLSJVaSVj8qQtEPnMROLFtoKl6\n"
     ]
    }
   ],
   "source": [
    "from passlib.context import CryptContext\n",
    "\n",
    "# ハッシュ化のための設定\n",
    "pwd_context = CryptContext(schemes=[\"bcrypt\"], deprecated=\"auto\")\n",
    "\n",
    "# 平文のパスワード\n",
    "plain_passwords = [\"password1\", \"password2\", \"password3\", \"password4\"]\n",
    "\n",
    "# ハッシュ化したパスワードのリスト\n",
    "hashed_passwords = [pwd_context.hash(password) for password in plain_passwords]\n",
    "\n",
    "# ハッシュ化されたパスワードを表示\n",
    "for plain, hashed in zip(plain_passwords, hashed_passwords):\n",
    "    print(f\"Plain: {plain} -> Hashed: {hashed}\")\n"
   ]
  },
  {
   "cell_type": "code",
   "execution_count": 20,
   "metadata": {},
   "outputs": [
    {
     "name": "stdout",
     "output_type": "stream",
     "text": [
      "Collecting passlib\n",
      "  Using cached passlib-1.7.4-py2.py3-none-any.whl.metadata (1.7 kB)\n",
      "Using cached passlib-1.7.4-py2.py3-none-any.whl (525 kB)\n",
      "Installing collected packages: passlib\n",
      "Successfully installed passlib-1.7.4\n",
      "Note: you may need to restart the kernel to use updated packages.\n"
     ]
    },
    {
     "name": "stderr",
     "output_type": "stream",
     "text": [
      "\n",
      "[notice] A new release of pip is available: 24.0 -> 24.3.1\n",
      "[notice] To update, run: python.exe -m pip install --upgrade pip\n"
     ]
    }
   ],
   "source": [
    "pip install passlib\n"
   ]
  },
  {
   "cell_type": "code",
   "execution_count": 22,
   "metadata": {},
   "outputs": [
    {
     "name": "stdout",
     "output_type": "stream",
     "text": [
      "Note: you may need to restart the kernel to use updated packages.Collecting bcrypt\n",
      "  Using cached bcrypt-4.2.1-cp39-abi3-win_amd64.whl.metadata (10 kB)\n",
      "Using cached bcrypt-4.2.1-cp39-abi3-win_amd64.whl (153 kB)\n",
      "Installing collected packages: bcrypt\n",
      "Successfully installed bcrypt-4.2.1\n",
      "\n"
     ]
    },
    {
     "name": "stderr",
     "output_type": "stream",
     "text": [
      "\n",
      "[notice] A new release of pip is available: 24.0 -> 24.3.1\n",
      "[notice] To update, run: python.exe -m pip install --upgrade pip\n"
     ]
    }
   ],
   "source": [
    "pip install bcrypt\n"
   ]
  },
  {
   "cell_type": "code",
   "execution_count": 24,
   "metadata": {},
   "outputs": [
    {
     "name": "stdout",
     "output_type": "stream",
     "text": [
      "パスワードをハッシュ化してデータベースに保存しました。\n"
     ]
    }
   ],
   "source": [
    "import mysql.connector\n",
    "\n",
    "# MySQL接続設定\n",
    "connection = mysql.connector.connect(\n",
    "    host=\"localhost\",\n",
    "    user=\"root\",\n",
    "    password=\"Spitz8823\",\n",
    "    database=\"app_db\"\n",
    ")\n",
    "\n",
    "cursor = connection.cursor()\n",
    "\n",
    "# ユーザーIDとハッシュ化されたパスワード\n",
    "hashed_passwords = [\n",
    "    (\"1\", \"$2b$12$/4QDDK2.fA7EBID5M.MqWuTRQT1w3vnGkYuhgBu8zGSB6kYLvhmGe\"),\n",
    "    (\"2\", \"$2b$12$yL2BD0bvjjNccR2KrS/EoO9hyzNQTF.jyXptp0OvphsZYcLMe1oma\"),\n",
    "    (\"3\", \"$2b$12$dG1s6/mbI8N23w82X8yJvOX8Z5HMOS3GysK.RDBE/T9TfJ/ns4ULu\"),\n",
    "    (\"4\", \"$2b$12$ruWOWoQLYrtO9YOEA91A5elCtiXYLSJVaSVj8qQtEPnMROLFtoKl6\"),\n",
    "]\n",
    "\n",
    "# データベースに更新\n",
    "for user_id, hashed_password in hashed_passwords:\n",
    "    cursor.execute(\n",
    "        \"UPDATE user_master SET password = %s WHERE user_id = %s\",\n",
    "        (hashed_password, user_id)\n",
    "    )\n",
    "\n",
    "# 変更をコミット\n",
    "connection.commit()\n",
    "\n",
    "# コネクションを閉じる\n",
    "cursor.close()\n",
    "connection.close()\n",
    "\n",
    "print(\"パスワードをハッシュ化してデータベースに保存しました。\")\n"
   ]
  }
 ],
 "metadata": {
  "kernelspec": {
   "display_name": "Python 3",
   "language": "python",
   "name": "python3"
  },
  "language_info": {
   "codemirror_mode": {
    "name": "ipython",
    "version": 3
   },
   "file_extension": ".py",
   "mimetype": "text/x-python",
   "name": "python",
   "nbconvert_exporter": "python",
   "pygments_lexer": "ipython3",
   "version": "3.12.4"
  }
 },
 "nbformat": 4,
 "nbformat_minor": 2
}
